{
 "cells": [
  {
   "cell_type": "markdown",
   "metadata": {
    "slideshow": {
     "slide_type": "slide"
    }
   },
   "source": [
    "# Object Tracking\n",
    "**Satya Mallick, LearnOpenCV.com**\n",
    "\n",
    "- What is tracking?\n",
    "- Tracking in computer vison.\n",
    "- Motion model and appearnace model.\n",
    "- OpenCV API Tracker Class."
   ]
  },
  {
   "cell_type": "markdown",
   "metadata": {
    "slideshow": {
     "slide_type": "slide"
    }
   },
   "source": [
    "# Goal \n",
    "\n",
    " Given the initial location of an object, track location in subsequent frames \n",
    "\n",
    "![Object Tracking](race_car_tracking.png)"
   ]
  },
  {
   "attachments": {},
   "cell_type": "markdown",
   "metadata": {
    "slideshow": {
     "slide_type": "slide"
    }
   },
   "source": [
    "# Tracker Class in OpenCV\n",
    "\n",
    "1. BOOSTING\n",
    "2. MIL \n",
    "3. KCF \n",
    "4. CRST\n",
    "5. TLD \n",
    " * Tends to recover from occulusions\n",
    "6. MEDIANFLOW \n",
    " * Good for predictable slow motion\n",
    "7. GOTURN\n",
    " * Deep Learning based\n",
    " * Most Accurate \n",
    "8. MOSSE\n",
    " * Fastest"
   ]
  },
  {
   "cell_type": "code",
   "execution_count": 6,
   "metadata": {},
   "outputs": [
    {
     "data": {
      "text/html": [
       "\n",
       "<video width=1024 controls>\n",
       "  <source src=\"\"/Users/tawate/Library/CloudStorage/OneDrive-SAS/05_CDT_DataScience/data/OpenCV_Course_Data/race_car_preview.mp4\" type=\"video/mp4\">\n",
       "</video>\n"
      ],
      "text/plain": [
       "<IPython.core.display.HTML object>"
      ]
     },
     "execution_count": 6,
     "metadata": {},
     "output_type": "execute_result"
    }
   ],
   "source": [
    "from IPython.display import HTML\n",
    "HTML(\"\"\"\n",
    "<video width=1024 controls>\n",
    "  <source src=\"\"/Users/tawate/Library/CloudStorage/OneDrive-SAS/05_CDT_DataScience/data/OpenCV_Course_Data/race_car_preview.mp4\" type=\"video/mp4\">\n",
    "</video>\n",
    "\"\"\")"
   ]
  },
  {
   "cell_type": "code",
   "execution_count": 1,
   "metadata": {
    "slideshow": {
     "slide_type": "skip"
    }
   },
   "outputs": [],
   "source": [
    "# Import modules\n",
    "import cv2\n",
    "import sys\n",
    "import os\n",
    "import matplotlib.pyplot as plt\n",
    "from matplotlib.animation import FuncAnimation\n",
    "from IPython.display import HTML\n",
    "import urllib\n",
    "DATA_PATH = \"/Users/tawate/Library/CloudStorage/OneDrive-SAS/05_CDT_DataScience/data/OpenCV_Course_Data/\"\n",
    "\n",
    "video_input_file_name = \"race_car.mp4\"\n",
    "\n",
    "# Bounding box rectangle draw\n",
    "def drawRectangle(frame, bbox):\n",
    "    p1 = (int(bbox[0]), int(bbox[1]))\n",
    "    p2 = (int(bbox[0] + bbox[2]), int(bbox[1] + bbox[3]))\n",
    "    cv2.rectangle(frame, p1, p2, (255,0,0), 2, 1)\n",
    "\n",
    "def displayRectangle(frame, bbox):\n",
    "    plt.figure(figsize=(20,10))\n",
    "    frameCopy = frame.copy()\n",
    "    drawRectangle(frameCopy, bbox)\n",
    "    frameCopy = cv2.cvtColor(frameCopy, cv2.COLOR_RGB2BGR)\n",
    "    plt.imshow(frameCopy); plt.axis('off')    \n",
    "\n",
    "def drawText(frame, txt, location, color = (50,170,50)):\n",
    "    cv2.putText(frame, txt, location, cv2.FONT_HERSHEY_SIMPLEX, 1, color, 3)\n"
   ]
  },
  {
   "cell_type": "markdown",
   "metadata": {},
   "source": [
    "# Download tracking model (for GOTURN only)"
   ]
  },
  {
   "cell_type": "code",
   "execution_count": 2,
   "metadata": {},
   "outputs": [],
   "source": [
    "if not os.path.isfile(DATA_PATH + 'models/' + 'goturn.prototxt') or not os.path.isfile(DATA_PATH + 'models/' + 'goturn.caffemodel'):\n",
    "    print(\"Downloading GOTURN model zip file\")\n",
    "    urllib.request.urlretrieve('https://www.dropbox.com/sh/77frbrkmf9ojfm6/AACgY7-wSfj-LIyYcOgUSZ0Ua?dl=1', 'GOTURN.zip')\n",
    "    \n",
    "    # Uncompress the file\n",
    "    !tar -xvf GOTURN.zip\n",
    "\n",
    "    # Delete the zip file\n",
    "    os.remove('GOTURN.zip')"
   ]
  },
  {
   "cell_type": "markdown",
   "metadata": {
    "slideshow": {
     "slide_type": "slide"
    }
   },
   "source": [
    "# GOTURN Tracker\n",
    "\n",
    "![](goturn.jpg)"
   ]
  },
  {
   "cell_type": "markdown",
   "metadata": {
    "slideshow": {
     "slide_type": "slide"
    }
   },
   "source": [
    "# Create the Tracker instance"
   ]
  },
  {
   "cell_type": "code",
   "execution_count": 3,
   "metadata": {},
   "outputs": [],
   "source": [
    "# Set up tracker\n",
    "tracker_types = ['BOOSTING', 'MIL','KCF', 'CSRT', 'TLD', 'MEDIANFLOW', 'GOTURN','MOSSE']\n",
    "\n",
    "# Change the index to change the tracker type\n",
    "tracker_type = tracker_types[2]\n",
    "\n",
    "if tracker_type == 'BOOSTING':\n",
    "    tracker = cv2.legacy_TrackerBoosting.create()\n",
    "elif tracker_type == 'MIL':\n",
    "    tracker = cv2.TrackerMIL_create()\n",
    "elif tracker_type == 'KCF':\n",
    "    tracker = cv2.TrackerKCF_create()\n",
    "elif tracker_type == 'CSRT':\n",
    "    tracker = cv2.legacy_TrackerCSRT.create()\n",
    "elif tracker_type == 'TLD':\n",
    "    tracker = cv2.legacy_TrackerTLD.create()\n",
    "elif tracker_type == 'MEDIANFLOW':\n",
    "    tracker = cv2.legacy_TrackerMedianFlow.create()\n",
    "elif tracker_type == 'GOTURN':\n",
    "    tracker = cv2.TrackerGOTURN_create()   \n",
    "else:\n",
    "    tracker = cv2.legacy_TrackerMOSSE.create()"
   ]
  },
  {
   "cell_type": "markdown",
   "metadata": {
    "slideshow": {
     "slide_type": "slide"
    }
   },
   "source": [
    "# Read input video & Setup output Video"
   ]
  },
  {
   "cell_type": "code",
   "execution_count": 4,
   "metadata": {},
   "outputs": [],
   "source": [
    "# Read video\n",
    "video = cv2.VideoCapture(DATA_PATH+video_input_file_name)\n",
    "ok, frame = video.read()\n",
    "\n",
    "# Exit if video not opened\n",
    "if not video.isOpened():\n",
    "    print(\"Could not open video\")\n",
    "    sys.exit()\n",
    "else : \n",
    "    width = int(video.get(cv2.CAP_PROP_FRAME_WIDTH))\n",
    "    height = int(video.get(cv2.CAP_PROP_FRAME_HEIGHT))\n",
    "    \n",
    "video_output_file_name = 'race_car-' + tracker_type + '.mp4'\n",
    "video_out = cv2.VideoWriter(video_output_file_name,cv2.VideoWriter_fourcc(*'avc1'), 10, (width, height))\n"
   ]
  },
  {
   "cell_type": "markdown",
   "metadata": {
    "slideshow": {
     "slide_type": "slide"
    }
   },
   "source": [
    "# Define Bounding Box"
   ]
  },
  {
   "cell_type": "code",
   "execution_count": 7,
   "metadata": {},
   "outputs": [
    {
     "name": "stdout",
     "output_type": "stream",
     "text": [
      "Select a ROI and then press SPACE or ENTER button!\n",
      "Cancel the selection process by pressing c button!\n"
     ]
    }
   ],
   "source": [
    "# Define a bounding box\n",
    "bbox = (1300, 405, 160, 120) # upper left and lower right coner locations\n",
    "# bbox = cv2.selectROI(frame, False)\n",
    "# print(bbox)\n",
    "displayRectangle(frame,bbox)"
   ]
  },
  {
   "cell_type": "markdown",
   "metadata": {
    "slideshow": {
     "slide_type": "slide"
    }
   },
   "source": [
    "# Intilialize Tracker \n",
    "\n",
    "1. One frame\n",
    "2. A bounding box \n"
   ]
  },
  {
   "cell_type": "code",
   "execution_count": 7,
   "metadata": {},
   "outputs": [],
   "source": [
    "# Initialize tracker with first frame and bounding box\n",
    "\n",
    "ok = tracker.init(frame, bbox)"
   ]
  },
  {
   "cell_type": "markdown",
   "metadata": {
    "slideshow": {
     "slide_type": "slide"
    }
   },
   "source": [
    "# Read frame and Track Object"
   ]
  },
  {
   "cell_type": "code",
   "execution_count": 13,
   "metadata": {},
   "outputs": [],
   "source": [
    "while True:\n",
    "    ok, frame = video.read()\n",
    "    if not ok:\n",
    "        break \n",
    "    \n",
    "    # Start timer\n",
    "    timer = cv2.getTickCount()\n",
    "\n",
    "    # Update tracker\n",
    "    ok, bbox = tracker.update(frame)\n",
    "\n",
    "    # Calculate Frames per second (FPS)\n",
    "    fps = cv2.getTickFrequency() / (cv2.getTickCount() - timer);\n",
    "\n",
    "    # Draw bounding box\n",
    "    if ok:\n",
    "        drawRectangle(frame, bbox)\n",
    "    else :\n",
    "        drawText(frame, \"Tracking failure detected\", (80,140), (0, 0, 255))\n",
    "\n",
    "    # Display Info\n",
    "    drawText(frame, tracker_type + \" Tracker\", (80,60))\n",
    "    drawText(frame, \"FPS : \" + str(int(fps)), (80,100))\n",
    "    \n",
    "    # Write frame to video\n",
    "    video_out.write(frame)\n",
    "    \n",
    "video.release()\n",
    "video_out.release()"
   ]
  },
  {
   "cell_type": "code",
   "execution_count": 14,
   "metadata": {},
   "outputs": [
    {
     "data": {
      "text/html": [
       "\n",
       "<video width=1024 controls>\n",
       "  <source src=\"race_car-KCF.mp4\" type=\"video/mp4\">\n",
       "</video>\n"
      ],
      "text/plain": [
       "<IPython.core.display.HTML object>"
      ]
     },
     "execution_count": 14,
     "metadata": {},
     "output_type": "execute_result"
    }
   ],
   "source": [
    "# Tracker: KCF\n",
    "HTML(\"\"\"\n",
    "<video width=1024 controls>\n",
    "  <source src=\"race_car-KCF.mp4\" type=\"video/mp4\">\n",
    "</video>\n",
    "\"\"\")"
   ]
  },
  {
   "cell_type": "code",
   "execution_count": 10,
   "metadata": {},
   "outputs": [
    {
     "data": {
      "text/html": [
       "\n",
       "<video width=1024 controls>\n",
       "  <source src=\"race_car-CSRT.mp4\" type=\"video/mp4\">\n",
       "</video>\n"
      ],
      "text/plain": [
       "<IPython.core.display.HTML object>"
      ]
     },
     "execution_count": 10,
     "metadata": {},
     "output_type": "execute_result"
    }
   ],
   "source": [
    "# Tracker: CSRT\n",
    "HTML(\"\"\"\n",
    "<video width=1024 controls>\n",
    "  <source src=\"race_car-CSRT.mp4\" type=\"video/mp4\">\n",
    "</video>\n",
    "\"\"\")"
   ]
  },
  {
   "cell_type": "code",
   "execution_count": 11,
   "metadata": {},
   "outputs": [
    {
     "data": {
      "text/html": [
       "\n",
       "<video width=1024 controls>\n",
       "  <source src=\"race_car-GOTURN.mp4\" type=\"video/mp4\">\n",
       "</video>\n"
      ],
      "text/plain": [
       "<IPython.core.display.HTML object>"
      ]
     },
     "execution_count": 11,
     "metadata": {},
     "output_type": "execute_result"
    }
   ],
   "source": [
    "# Tracker: GOTURN\n",
    "HTML(\"\"\"\n",
    "<video width=1024 controls>\n",
    "  <source src=\"race_car-GOTURN.mp4\" type=\"video/mp4\">\n",
    "</video>\n",
    "\"\"\")"
   ]
  },
  {
   "cell_type": "markdown",
   "metadata": {
    "slideshow": {
     "slide_type": "slide"
    }
   },
   "source": [
    "# Thank You!"
   ]
  }
 ],
 "metadata": {
  "celltoolbar": "Slideshow",
  "kernelspec": {
   "display_name": "Python 3",
   "language": "python",
   "name": "python3"
  },
  "language_info": {
   "codemirror_mode": {
    "name": "ipython",
    "version": 3
   },
   "file_extension": ".py",
   "mimetype": "text/x-python",
   "name": "python",
   "nbconvert_exporter": "python",
   "pygments_lexer": "ipython3",
   "version": "3.9.15"
  },
  "vscode": {
   "interpreter": {
    "hash": "bfc93abef7cdcec85accad522de110da91c32d4bc3cbbd334c2aaf711f4e6e08"
   }
  }
 },
 "nbformat": 4,
 "nbformat_minor": 2
}
